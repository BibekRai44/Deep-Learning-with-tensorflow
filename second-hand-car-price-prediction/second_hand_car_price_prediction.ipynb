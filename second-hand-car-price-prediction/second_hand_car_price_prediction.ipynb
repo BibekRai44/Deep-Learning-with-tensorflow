{
 "cells": [
  {
   "cell_type": "code",
   "execution_count": 285,
   "metadata": {},
   "outputs": [],
   "source": [
    "#importing required libraries\n",
    "\n",
    "import tensorflow as tf\n",
    "import numpy as np\n",
    "import pandas as pd\n",
    "import seaborn as sns\n",
    "from matplotlib import pyplot as plt\n",
    "%matplotlib inline\n",
    "import warnings\n",
    "warnings.filterwarnings('ignore')\n"
   ]
  },
  {
   "cell_type": "code",
   "execution_count": 286,
   "metadata": {},
   "outputs": [],
   "source": [
    "import sklearn\n",
    "from sklearn.model_selection import train_test_split\n",
    "from sklearn.metrics import accuracy_score\n",
    "from sklearn.linear_model import LinearRegression "
   ]
  },
  {
   "cell_type": "code",
   "execution_count": 287,
   "metadata": {},
   "outputs": [
    {
     "data": {
      "text/html": [
       "<div>\n",
       "<style scoped>\n",
       "    .dataframe tbody tr th:only-of-type {\n",
       "        vertical-align: middle;\n",
       "    }\n",
       "\n",
       "    .dataframe tbody tr th {\n",
       "        vertical-align: top;\n",
       "    }\n",
       "\n",
       "    .dataframe thead th {\n",
       "        text-align: right;\n",
       "    }\n",
       "</style>\n",
       "<table border=\"1\" class=\"dataframe\">\n",
       "  <thead>\n",
       "    <tr style=\"text-align: right;\">\n",
       "      <th></th>\n",
       "      <th>v.id</th>\n",
       "      <th>on road old</th>\n",
       "      <th>on road now</th>\n",
       "      <th>years</th>\n",
       "      <th>km</th>\n",
       "      <th>rating</th>\n",
       "      <th>condition</th>\n",
       "      <th>economy</th>\n",
       "      <th>top speed</th>\n",
       "      <th>hp</th>\n",
       "      <th>torque</th>\n",
       "      <th>current price</th>\n",
       "    </tr>\n",
       "  </thead>\n",
       "  <tbody>\n",
       "    <tr>\n",
       "      <th>0</th>\n",
       "      <td>1</td>\n",
       "      <td>535651</td>\n",
       "      <td>798186</td>\n",
       "      <td>3</td>\n",
       "      <td>78945</td>\n",
       "      <td>1</td>\n",
       "      <td>2</td>\n",
       "      <td>14</td>\n",
       "      <td>177</td>\n",
       "      <td>73</td>\n",
       "      <td>123</td>\n",
       "      <td>351318.0</td>\n",
       "    </tr>\n",
       "    <tr>\n",
       "      <th>1</th>\n",
       "      <td>2</td>\n",
       "      <td>591911</td>\n",
       "      <td>861056</td>\n",
       "      <td>6</td>\n",
       "      <td>117220</td>\n",
       "      <td>5</td>\n",
       "      <td>9</td>\n",
       "      <td>9</td>\n",
       "      <td>148</td>\n",
       "      <td>74</td>\n",
       "      <td>95</td>\n",
       "      <td>285001.5</td>\n",
       "    </tr>\n",
       "    <tr>\n",
       "      <th>2</th>\n",
       "      <td>3</td>\n",
       "      <td>686990</td>\n",
       "      <td>770762</td>\n",
       "      <td>2</td>\n",
       "      <td>132538</td>\n",
       "      <td>2</td>\n",
       "      <td>8</td>\n",
       "      <td>15</td>\n",
       "      <td>181</td>\n",
       "      <td>53</td>\n",
       "      <td>97</td>\n",
       "      <td>215386.0</td>\n",
       "    </tr>\n",
       "    <tr>\n",
       "      <th>3</th>\n",
       "      <td>4</td>\n",
       "      <td>573999</td>\n",
       "      <td>722381</td>\n",
       "      <td>4</td>\n",
       "      <td>101065</td>\n",
       "      <td>4</td>\n",
       "      <td>3</td>\n",
       "      <td>11</td>\n",
       "      <td>197</td>\n",
       "      <td>54</td>\n",
       "      <td>116</td>\n",
       "      <td>244295.5</td>\n",
       "    </tr>\n",
       "    <tr>\n",
       "      <th>4</th>\n",
       "      <td>5</td>\n",
       "      <td>691388</td>\n",
       "      <td>811335</td>\n",
       "      <td>6</td>\n",
       "      <td>61559</td>\n",
       "      <td>3</td>\n",
       "      <td>9</td>\n",
       "      <td>12</td>\n",
       "      <td>160</td>\n",
       "      <td>53</td>\n",
       "      <td>105</td>\n",
       "      <td>531114.5</td>\n",
       "    </tr>\n",
       "  </tbody>\n",
       "</table>\n",
       "</div>"
      ],
      "text/plain": [
       "   v.id  on road old  on road now  years      km  rating  condition  economy  \\\n",
       "0     1       535651       798186      3   78945       1          2       14   \n",
       "1     2       591911       861056      6  117220       5          9        9   \n",
       "2     3       686990       770762      2  132538       2          8       15   \n",
       "3     4       573999       722381      4  101065       4          3       11   \n",
       "4     5       691388       811335      6   61559       3          9       12   \n",
       "\n",
       "   top speed  hp  torque  current price  \n",
       "0        177  73     123       351318.0  \n",
       "1        148  74      95       285001.5  \n",
       "2        181  53      97       215386.0  \n",
       "3        197  54     116       244295.5  \n",
       "4        160  53     105       531114.5  "
      ]
     },
     "execution_count": 287,
     "metadata": {},
     "output_type": "execute_result"
    }
   ],
   "source": [
    "df=pd.read_csv('train.csv',\",\")\n",
    "df.head()"
   ]
  },
  {
   "cell_type": "code",
   "execution_count": 288,
   "metadata": {},
   "outputs": [
    {
     "data": {
      "text/plain": [
       "<tf.Tensor: shape=(1000, 12), dtype=float32, numpy=\n",
       "array([[1.000000e+00, 5.356510e+05, 7.981860e+05, ..., 7.300000e+01,\n",
       "        1.230000e+02, 3.513180e+05],\n",
       "       [2.000000e+00, 5.919110e+05, 8.610560e+05, ..., 7.400000e+01,\n",
       "        9.500000e+01, 2.850015e+05],\n",
       "       [3.000000e+00, 6.869900e+05, 7.707620e+05, ..., 5.300000e+01,\n",
       "        9.700000e+01, 2.153860e+05],\n",
       "       ...,\n",
       "       [9.980000e+02, 6.463440e+05, 8.427330e+05, ..., 1.130000e+02,\n",
       "        8.900000e+01, 4.058710e+05],\n",
       "       [9.990000e+02, 5.355590e+05, 7.324390e+05, ..., 1.120000e+02,\n",
       "        1.280000e+02, 7.439800e+04],\n",
       "       [1.000000e+03, 5.901050e+05, 7.797430e+05, ..., 9.900000e+01,\n",
       "        9.600000e+01, 4.149385e+05]], dtype=float32)>"
      ]
     },
     "execution_count": 288,
     "metadata": {},
     "output_type": "execute_result"
    }
   ],
   "source": [
    "tensor_data=tf.constant(df,dtype=tf.float32)\n",
    "tensor_data"
   ]
  },
  {
   "cell_type": "code",
   "execution_count": 289,
   "metadata": {},
   "outputs": [],
   "source": [
    "tensor_data=tf.random.shuffle(tensor_data)"
   ]
  },
  {
   "cell_type": "code",
   "execution_count": 290,
   "metadata": {},
   "outputs": [
    {
     "name": "stdout",
     "output_type": "stream",
     "text": [
      "tf.Tensor(\n",
      "[[8.320000e+02 5.804190e+05 7.308260e+05 3.000000e+00 8.839600e+04\n",
      "  3.000000e+00 1.000000e+01 1.500000e+01 1.760000e+02 7.700000e+01\n",
      "  8.200000e+01 3.523185e+05]\n",
      " [2.540000e+02 5.214470e+05 7.245110e+05 2.000000e+00 1.144050e+05\n",
      "  5.000000e+00 3.000000e+00 1.400000e+01 1.790000e+02 6.300000e+01\n",
      "  7.100000e+01 1.672815e+05]\n",
      " [3.690000e+02 5.224010e+05 7.574540e+05 4.000000e+00 6.829400e+04\n",
      "  5.000000e+00 4.000000e+00 1.000000e+01 1.630000e+02 6.500000e+01\n",
      "  8.900000e+01 3.685225e+05]\n",
      " [2.210000e+02 6.332270e+05 8.381440e+05 7.000000e+00 5.578900e+04\n",
      "  3.000000e+00 7.000000e+00 1.100000e+01 1.620000e+02 8.100000e+01\n",
      "  1.050000e+02 5.128855e+05]\n",
      " [5.430000e+02 5.160900e+05 8.941130e+05 4.000000e+00 5.456200e+04\n",
      "  1.000000e+00 3.000000e+00 1.100000e+01 1.450000e+02 9.000000e+01\n",
      "  1.150000e+02 4.866990e+05]], shape=(5, 12), dtype=float32)\n"
     ]
    }
   ],
   "source": [
    "print(tensor_data[:5])"
   ]
  },
  {
   "cell_type": "code",
   "execution_count": 291,
   "metadata": {},
   "outputs": [],
   "source": [
    "x=tensor_data[:,3:-1]\n",
    "y=tensor_data[:,-1]"
   ]
  },
  {
   "cell_type": "code",
   "execution_count": 292,
   "metadata": {},
   "outputs": [
    {
     "name": "stdout",
     "output_type": "stream",
     "text": [
      "tf.Tensor(\n",
      "[[3.00000e+00 8.83960e+04 3.00000e+00 1.00000e+01 1.50000e+01 1.76000e+02\n",
      "  7.70000e+01 8.20000e+01]\n",
      " [2.00000e+00 1.14405e+05 5.00000e+00 3.00000e+00 1.40000e+01 1.79000e+02\n",
      "  6.30000e+01 7.10000e+01]\n",
      " [4.00000e+00 6.82940e+04 5.00000e+00 4.00000e+00 1.00000e+01 1.63000e+02\n",
      "  6.50000e+01 8.90000e+01]\n",
      " [7.00000e+00 5.57890e+04 3.00000e+00 7.00000e+00 1.10000e+01 1.62000e+02\n",
      "  8.10000e+01 1.05000e+02]\n",
      " [4.00000e+00 5.45620e+04 1.00000e+00 3.00000e+00 1.10000e+01 1.45000e+02\n",
      "  9.00000e+01 1.15000e+02]], shape=(5, 8), dtype=float32)\n"
     ]
    }
   ],
   "source": [
    "print(x[:5])"
   ]
  },
  {
   "cell_type": "code",
   "execution_count": 293,
   "metadata": {},
   "outputs": [
    {
     "name": "stdout",
     "output_type": "stream",
     "text": [
      "tf.Tensor(\n",
      "[[352318.5]\n",
      " [167281.5]\n",
      " [368522.5]\n",
      " [512885.5]\n",
      " [486699. ]], shape=(5, 1), dtype=float32)\n"
     ]
    }
   ],
   "source": [
    "y=tf.expand_dims(y,axis=-1)\n",
    "y.shape\n",
    "print(y[:5])"
   ]
  },
  {
   "cell_type": "code",
   "execution_count": 294,
   "metadata": {},
   "outputs": [],
   "source": [
    "from tensorflow.keras.layers import Normalization\n",
    "normalizer=Normalization()"
   ]
  },
  {
   "cell_type": "code",
   "execution_count": 295,
   "metadata": {},
   "outputs": [
    {
     "data": {
      "text/plain": [
       "TensorShape([1000, 8])"
      ]
     },
     "execution_count": 295,
     "metadata": {},
     "output_type": "execute_result"
    }
   ],
   "source": [
    "x.shape"
   ]
  },
  {
   "cell_type": "code",
   "execution_count": 296,
   "metadata": {},
   "outputs": [
    {
     "data": {
      "text/plain": [
       "<tf.Tensor: shape=(5, 8), dtype=float32, numpy=\n",
       "array([[-0.90849864, -0.40769094,  0.00855854,  1.561439  ,  1.5138369 ,\n",
       "         0.4723855 , -0.36797792, -1.0178076 ],\n",
       "       [-1.4904964 ,  0.48498824,  1.4350005 , -0.9181604 ,  1.0652925 ,\n",
       "         0.6279974 , -1.0506823 , -1.540418  ],\n",
       "       [-0.32650092, -1.0976305 ,  1.4350005 , -0.56393194, -0.72888505,\n",
       "        -0.20193262, -0.95315313, -0.6852374 ],\n",
       "       [ 1.4194922 , -1.5268263 ,  0.00855854,  0.49875355, -0.28034067,\n",
       "        -0.25380325, -0.17291953,  0.07492313],\n",
       "       [-0.32650092, -1.5689393 , -1.4178835 , -0.9181604 , -0.28034067,\n",
       "        -1.1356039 ,  0.26596186,  0.55002344]], dtype=float32)>"
      ]
     },
     "execution_count": 296,
     "metadata": {},
     "output_type": "execute_result"
    }
   ],
   "source": [
    "normalizer=Normalization()\n",
    "normalizer.adapt(x)\n",
    "normalizer(x)[:5]"
   ]
  },
  {
   "cell_type": "code",
   "execution_count": 297,
   "metadata": {},
   "outputs": [
    {
     "name": "stdout",
     "output_type": "stream",
     "text": [
      "tf.Tensor(\n",
      "[[3.00000e+00 8.83960e+04 3.00000e+00 1.00000e+01 1.50000e+01 1.76000e+02\n",
      "  7.70000e+01 8.20000e+01]\n",
      " [2.00000e+00 1.14405e+05 5.00000e+00 3.00000e+00 1.40000e+01 1.79000e+02\n",
      "  6.30000e+01 7.10000e+01]\n",
      " [4.00000e+00 6.82940e+04 5.00000e+00 4.00000e+00 1.00000e+01 1.63000e+02\n",
      "  6.50000e+01 8.90000e+01]\n",
      " [7.00000e+00 5.57890e+04 3.00000e+00 7.00000e+00 1.10000e+01 1.62000e+02\n",
      "  8.10000e+01 1.05000e+02]\n",
      " [4.00000e+00 5.45620e+04 1.00000e+00 3.00000e+00 1.10000e+01 1.45000e+02\n",
      "  9.00000e+01 1.15000e+02]], shape=(5, 8), dtype=float32)\n"
     ]
    }
   ],
   "source": [
    "print(x[:5])"
   ]
  },
  {
   "cell_type": "code",
   "execution_count": null,
   "metadata": {},
   "outputs": [],
   "source": []
  }
 ],
 "metadata": {
  "kernelspec": {
   "display_name": "Python 3",
   "language": "python",
   "name": "python3"
  },
  "language_info": {
   "codemirror_mode": {
    "name": "ipython",
    "version": 3
   },
   "file_extension": ".py",
   "mimetype": "text/x-python",
   "name": "python",
   "nbconvert_exporter": "python",
   "pygments_lexer": "ipython3",
   "version": "3.10.6"
  }
 },
 "nbformat": 4,
 "nbformat_minor": 2
}
